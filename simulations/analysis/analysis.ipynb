{
 "cells": [
  {
   "cell_type": "code",
   "execution_count": 1,
   "metadata": {},
   "outputs": [],
   "source": [
    "import pandas as pd\n",
    "import os"
   ]
  },
  {
   "cell_type": "code",
   "execution_count": 2,
   "metadata": {},
   "outputs": [],
   "source": [
    "stock_data = {}"
   ]
  },
  {
   "cell_type": "code",
   "execution_count": 21,
   "metadata": {},
   "outputs": [],
   "source": [
    "base_path = \"/Users/niroren/dev/marketAnalysis/simulations_results\"\n",
    "start_date = '2023-09-03'\n",
    "end_date = '2023-10-01'\n",
    "tickers = ['AAPL','MSFT','AMZN']\n",
    "\n",
    "date_interval = [date.strftime('%Y-%m-%d') for date in pd.date_range(start=pd.to_datetime(start_date), end=pd.to_datetime(end_date)+pd.Timedelta(days=1))]\n",
    "\n",
    "for d in date_interval:\n",
    "    stock_data[d] = {}\n",
    "\n",
    "\n",
    "data_dates = os.listdir(base_path)\n",
    "all_positions = pd.DataFrame()\n",
    "\n",
    "\n",
    "for date in date_interval:\n",
    "    if date in data_dates:\n",
    "        current_date_path = os.path.join(base_path,date)\n",
    "        data_tickers = os.listdir(current_date_path)\n",
    "        \n",
    "        for ticker in tickers:\n",
    "            if ticker in data_tickers:\n",
    "                path = os.path.join(current_date_path,ticker)\n",
    "                positions = pd.read_csv(os.path.join(path,\"positions.csv\"))\n",
    "                all_positions = pd.concat([all_positions,positions])\n",
    "                rev = positions.revenue.sum()\n",
    "                stock_data[date][ticker] = rev"
   ]
  },
  {
   "cell_type": "code",
   "execution_count": 4,
   "metadata": {},
   "outputs": [],
   "source": [
    "def convert(stock_data):\n",
    "    data_list = []\n",
    "    for stock_symbol, date_data in stock_data.items():\n",
    "        for date, profit in date_data.items():\n",
    "            data_list.append({\"Stock Symbol\": stock_symbol, \"Date\": date, \"Profit\": profit})\n",
    "\n",
    "    # Create a Pandas DataFrame from the list of dictionaries\n",
    "    df = pd.DataFrame(data_list)\n",
    "    return df"
   ]
  },
  {
   "cell_type": "code",
   "execution_count": 19,
   "metadata": {},
   "outputs": [
    {
     "data": {
      "text/plain": [
       "44.1910934448244"
      ]
     },
     "execution_count": 19,
     "metadata": {},
     "output_type": "execute_result"
    }
   ],
   "source": [
    "ind = []\n",
    "lst = []\n",
    "for key in stock_data.keys():\n",
    "    stock_data[key][\"date\"] = key\n",
    "    lst.append(stock_data[key])\n",
    "\n",
    "df = pd.DataFrame(lst)\n",
    "df.set_index(\"date\",inplace=True)\n",
    "\n",
    "df.sum().sum()"
   ]
  },
  {
   "cell_type": "code",
   "execution_count": 23,
   "metadata": {},
   "outputs": [
    {
     "data": {
      "text/plain": [
       "(547, 8)"
      ]
     },
     "execution_count": 23,
     "metadata": {},
     "output_type": "execute_result"
    }
   ],
   "source": [
    "all_positions.shape        \n",
    "                           "
   ]
  },
  {
   "cell_type": "code",
   "execution_count": 8,
   "metadata": {},
   "outputs": [],
   "source": [
    "ord = pd.read_csv(\"/Users/niroren/dev/marketAnalysis/simulations_results/2023-09-07/AAPL/orders.csv\")\n",
    "pos = pd.read_csv(\"/Users/niroren/dev/marketAnalysis/simulations_results/2023-09-07/AAPL/positions.csv\")"
   ]
  }
 ],
 "metadata": {
  "kernelspec": {
   "display_name": "Python 3.11.5 64-bit",
   "language": "python",
   "name": "python3"
  },
  "language_info": {
   "codemirror_mode": {
    "name": "ipython",
    "version": 3
   },
   "file_extension": ".py",
   "mimetype": "text/x-python",
   "name": "python",
   "nbconvert_exporter": "python",
   "pygments_lexer": "ipython3",
   "version": "3.11.5"
  },
  "orig_nbformat": 4,
  "vscode": {
   "interpreter": {
    "hash": "b0fa6594d8f4cbf19f97940f81e996739fb7646882a419484c72d19e05852a7e"
   }
  }
 },
 "nbformat": 4,
 "nbformat_minor": 2
}
