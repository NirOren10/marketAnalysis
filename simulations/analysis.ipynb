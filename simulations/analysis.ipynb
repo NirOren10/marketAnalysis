{
 "cells": [
  {
   "cell_type": "code",
   "execution_count": 24,
   "metadata": {},
   "outputs": [],
   "source": [
    "import pandas as pd\n",
    "import os"
   ]
  },
  {
   "cell_type": "code",
   "execution_count": 25,
   "metadata": {},
   "outputs": [],
   "source": [
    "stock_data = {}"
   ]
  },
  {
   "cell_type": "code",
   "execution_count": 26,
   "metadata": {},
   "outputs": [],
   "source": [
    "base_path = \"/Users/niroren/dev/marketAnalysis/simulations_results\"\n",
    "start_date = '2023-09-03'\n",
    "end_date = '2023-10-01'\n",
    "tickers = ['AAPL','MSFT','AMZN']\n",
    "\n",
    "date_interval = [date.strftime('%Y-%m-%d') for date in pd.date_range(start=pd.to_datetime(start_date), end=pd.to_datetime(end_date)+pd.Timedelta(days=1))]\n",
    "\n",
    "for d in date_interval:\n",
    "    stock_data[d] = {}\n",
    "\n",
    "\n",
    "data_dates = os.listdir(base_path)\n",
    "\n",
    "for date in date_interval:\n",
    "    if date in data_dates:\n",
    "        current_date_path = os.path.join(base_path,date)\n",
    "        data_tickers = os.listdir(current_date_path)\n",
    "        \n",
    "        for ticker in tickers:\n",
    "            if ticker in data_tickers:\n",
    "                path = os.path.join(current_date_path,ticker)\n",
    "                positions = pd.read_csv(os.path.join(path,\"positions.csv\"))\n",
    "                rev = positions.revenue.sum()\n",
    "                stock_data[date][ticker] = rev"
   ]
  },
  {
   "cell_type": "code",
   "execution_count": 27,
   "metadata": {},
   "outputs": [],
   "source": [
    "def convert(stock_data):\n",
    "    data_list = []\n",
    "    for stock_symbol, date_data in stock_data.items():\n",
    "        for date, profit in date_data.items():\n",
    "            data_list.append({\"Stock Symbol\": stock_symbol, \"Date\": date, \"Profit\": profit})\n",
    "\n",
    "    # Create a Pandas DataFrame from the list of dictionaries\n",
    "    df = pd.DataFrame(data_list)\n",
    "    return df"
   ]
  },
  {
   "cell_type": "code",
   "execution_count": 28,
   "metadata": {},
   "outputs": [],
   "source": [
    "ind = []\n",
    "lst = []\n",
    "for key in stock_data.keys():\n",
    "    stock_data[key][\"date\"] = key\n",
    "    lst.append(stock_data[key])"
   ]
  },
  {
   "cell_type": "code",
   "execution_count": 29,
   "metadata": {},
   "outputs": [],
   "source": [
    "df = pd.DataFrame(lst)\n",
    "df.set_index(\"date\",inplace=True)"
   ]
  },
  {
   "cell_type": "code",
   "execution_count": 30,
   "metadata": {},
   "outputs": [
    {
     "data": {
      "text/plain": [
       "288.3185272216797"
      ]
     },
     "execution_count": 30,
     "metadata": {},
     "output_type": "execute_result"
    }
   ],
   "source": [
    "df.sum().sum()"
   ]
  },
  {
   "cell_type": "code",
   "execution_count": 31,
   "metadata": {},
   "outputs": [
    {
     "data": {
      "text/plain": [
       "106.35074615478514"
      ]
     },
     "execution_count": 31,
     "metadata": {},
     "output_type": "execute_result"
    }
   ],
   "source": [
    "df.MSFT.sum()"
   ]
  },
  {
   "cell_type": "code",
   "execution_count": 32,
   "metadata": {},
   "outputs": [
    {
     "data": {
      "text/plain": [
       "{'2023-09-03': {'date': '2023-09-03'},\n",
       " '2023-09-04': {'date': '2023-09-04'},\n",
       " '2023-09-05': {'AAPL': -0.9781951904297159,\n",
       "  'MSFT': -3.2079620361327272,\n",
       "  'AMZN': -2.9554748535155397,\n",
       "  'date': '2023-09-05'},\n",
       " '2023-09-06': {'AAPL': -3.098846435546875,\n",
       "  'MSFT': -4.132934570312443,\n",
       "  'AMZN': -4.467727661132756,\n",
       "  'date': '2023-09-06'},\n",
       " '2023-09-07': {'AAPL': -3.3986358642577557,\n",
       "  'MSFT': 1.3130645751953125,\n",
       "  'AMZN': 0.3207244873046875,\n",
       "  'date': '2023-09-07'},\n",
       " '2023-09-08': {'AAPL': 1.2772216796875,\n",
       "  'MSFT': 0.5817260742186932,\n",
       "  'AMZN': -0.46438598632818184,\n",
       "  'date': '2023-09-08'},\n",
       " '2023-09-09': {'date': '2023-09-09'},\n",
       " '2023-09-10': {'date': '2023-09-10'},\n",
       " '2023-09-11': {'AAPL': -2.430358886718807,\n",
       "  'MSFT': 2.500366210937443,\n",
       "  'AMZN': 2.826354980468693,\n",
       "  'date': '2023-09-11'},\n",
       " '2023-09-12': {'AAPL': 2.139434814453068,\n",
       "  'MSFT': 1.9451293945311932,\n",
       "  'AMZN': 2.3393096923827557,\n",
       "  'date': '2023-09-12'},\n",
       " '2023-09-13': {'AAPL': 3.575103759765568,\n",
       "  'MSFT': 6.274169921874943,\n",
       "  'AMZN': 6.520187377929631,\n",
       "  'date': '2023-09-13'},\n",
       " '2023-09-14': {'AAPL': 5.274978637695256,\n",
       "  'MSFT': 10.383193969726562,\n",
       "  'AMZN': 6.658111572265625,\n",
       "  'date': '2023-09-14'},\n",
       " '2023-09-15': {'AAPL': 8.44140625,\n",
       "  'MSFT': 8.682373046875,\n",
       "  'AMZN': 8.493270874023438,\n",
       "  'date': '2023-09-15'},\n",
       " '2023-09-16': {'date': '2023-09-16'},\n",
       " '2023-09-17': {'date': '2023-09-17'},\n",
       " '2023-09-18': {'AAPL': 9.618362426757812,\n",
       "  'MSFT': 14.027359008789062,\n",
       "  'AMZN': 12.707427978515625,\n",
       "  'date': '2023-09-18'},\n",
       " '2023-09-19': {'AAPL': 15.163330078125,\n",
       "  'MSFT': 12.964660644531193,\n",
       "  'AMZN': 10.091873168945256,\n",
       "  'date': '2023-09-19'},\n",
       " '2023-09-20': {'AAPL': 8.50267028808588,\n",
       "  'MSFT': 8.046707153320256,\n",
       "  'AMZN': 6.790115356445256,\n",
       "  'date': '2023-09-20'},\n",
       " '2023-09-21': {'AAPL': 8.663589477539006,\n",
       "  'MSFT': 6.829025268554574,\n",
       "  'AMZN': 7.296051025390511,\n",
       "  'date': '2023-09-21'},\n",
       " '2023-09-22': {'AAPL': 4.976943969726449,\n",
       "  'MSFT': 2.918441772460767,\n",
       "  'AMZN': 5.6055908203123295,\n",
       "  'date': '2023-09-22'},\n",
       " '2023-09-23': {'date': '2023-09-23'},\n",
       " '2023-09-24': {'date': '2023-09-24'},\n",
       " '2023-09-25': {'AAPL': 7.596908569335767,\n",
       "  'MSFT': 11.623611450195312,\n",
       "  'AMZN': 10.25970458984375,\n",
       "  'date': '2023-09-25'},\n",
       " '2023-09-26': {'AAPL': 9.686691284179688,\n",
       "  'MSFT': 5.630264282226676,\n",
       "  'AMZN': 2.0941696166994035,\n",
       "  'date': '2023-09-26'},\n",
       " '2023-09-27': {'AAPL': 3.075935363769716,\n",
       "  'MSFT': 5.282722473144716,\n",
       "  'AMZN': 4.231224060058793,\n",
       "  'date': '2023-09-27'},\n",
       " '2023-09-28': {'AAPL': 5.731803894043168,\n",
       "  'MSFT': 6.221153259277429,\n",
       "  'AMZN': 7.5495681762696165,\n",
       "  'date': '2023-09-28'},\n",
       " '2023-09-29': {'AAPL': 7.538261413574304,\n",
       "  'MSFT': 8.467674255371179,\n",
       "  'AMZN': 4.715080261230611,\n",
       "  'date': '2023-09-29'},\n",
       " '2023-09-30': {'date': '2023-09-30'},\n",
       " '2023-10-01': {'date': '2023-10-01'},\n",
       " '2023-10-02': {'date': '2023-10-02'}}"
      ]
     },
     "execution_count": 32,
     "metadata": {},
     "output_type": "execute_result"
    }
   ],
   "source": [
    "stock_data"
   ]
  },
  {
   "cell_type": "code",
   "execution_count": 33,
   "metadata": {},
   "outputs": [],
   "source": [
    "ord = pd.read_csv(\"/Users/niroren/dev/marketAnalysis/simulations_results/2023-09-07/AAPL/orders.csv\")\n"
   ]
  },
  {
   "cell_type": "code",
   "execution_count": 34,
   "metadata": {},
   "outputs": [
    {
     "data": {
      "text/html": [
       "<div>\n",
       "<style scoped>\n",
       "    .dataframe tbody tr th:only-of-type {\n",
       "        vertical-align: middle;\n",
       "    }\n",
       "\n",
       "    .dataframe tbody tr th {\n",
       "        vertical-align: top;\n",
       "    }\n",
       "\n",
       "    .dataframe thead th {\n",
       "        text-align: right;\n",
       "    }\n",
       "</style>\n",
       "<table border=\"1\" class=\"dataframe\">\n",
       "  <thead>\n",
       "    <tr style=\"text-align: right;\">\n",
       "      <th></th>\n",
       "      <th>direction</th>\n",
       "      <th>datetime</th>\n",
       "      <th>price</th>\n",
       "      <th>signal</th>\n",
       "    </tr>\n",
       "  </thead>\n",
       "  <tbody>\n",
       "    <tr>\n",
       "      <th>0</th>\n",
       "      <td>sell</td>\n",
       "      <td>2023-09-05 09:40:00-04:00</td>\n",
       "      <td>188.434998</td>\n",
       "      <td>moving_average</td>\n",
       "    </tr>\n",
       "    <tr>\n",
       "      <th>1</th>\n",
       "      <td>buy</td>\n",
       "      <td>2023-09-05 10:19:00-04:00</td>\n",
       "      <td>188.759995</td>\n",
       "      <td>stop_loss</td>\n",
       "    </tr>\n",
       "    <tr>\n",
       "      <th>2</th>\n",
       "      <td>sell</td>\n",
       "      <td>2023-09-05 10:20:00-04:00</td>\n",
       "      <td>188.849197</td>\n",
       "      <td>moving_average</td>\n",
       "    </tr>\n",
       "    <tr>\n",
       "      <th>3</th>\n",
       "      <td>buy</td>\n",
       "      <td>2023-09-05 10:52:00-04:00</td>\n",
       "      <td>189.289993</td>\n",
       "      <td>stop_loss</td>\n",
       "    </tr>\n",
       "    <tr>\n",
       "      <th>4</th>\n",
       "      <td>sell</td>\n",
       "      <td>2023-09-05 10:53:00-04:00</td>\n",
       "      <td>189.282196</td>\n",
       "      <td>moving_average</td>\n",
       "    </tr>\n",
       "  </tbody>\n",
       "</table>\n",
       "</div>"
      ],
      "text/plain": [
       "  direction                   datetime       price          signal\n",
       "0      sell  2023-09-05 09:40:00-04:00  188.434998  moving_average\n",
       "1       buy  2023-09-05 10:19:00-04:00  188.759995       stop_loss\n",
       "2      sell  2023-09-05 10:20:00-04:00  188.849197  moving_average\n",
       "3       buy  2023-09-05 10:52:00-04:00  189.289993       stop_loss\n",
       "4      sell  2023-09-05 10:53:00-04:00  189.282196  moving_average"
      ]
     },
     "execution_count": 34,
     "metadata": {},
     "output_type": "execute_result"
    }
   ],
   "source": [
    "ord.head()"
   ]
  },
  {
   "cell_type": "code",
   "execution_count": 35,
   "metadata": {},
   "outputs": [],
   "source": [
    "ord = pd.read_csv(\"/Users/niroren/dev/marketAnalysis/simulations_results/2023-09-13/AAPL/orders.csv\")\n"
   ]
  },
  {
   "cell_type": "code",
   "execution_count": 36,
   "metadata": {},
   "outputs": [
    {
     "data": {
      "text/plain": [
       "direction\n",
       "buy     198\n",
       "sell    196\n",
       "Name: count, dtype: int64"
      ]
     },
     "execution_count": 36,
     "metadata": {},
     "output_type": "execute_result"
    }
   ],
   "source": [
    "ord.direction.value_counts()"
   ]
  }
 ],
 "metadata": {
  "kernelspec": {
   "display_name": "Python 3.11.0 64-bit",
   "language": "python",
   "name": "python3"
  },
  "language_info": {
   "codemirror_mode": {
    "name": "ipython",
    "version": 3
   },
   "file_extension": ".py",
   "mimetype": "text/x-python",
   "name": "python",
   "nbconvert_exporter": "python",
   "pygments_lexer": "ipython3",
   "version": "3.11.0"
  },
  "orig_nbformat": 4,
  "vscode": {
   "interpreter": {
    "hash": "5c7b89af1651d0b8571dde13640ecdccf7d5a6204171d6ab33e7c296e100e08a"
   }
  }
 },
 "nbformat": 4,
 "nbformat_minor": 2
}
